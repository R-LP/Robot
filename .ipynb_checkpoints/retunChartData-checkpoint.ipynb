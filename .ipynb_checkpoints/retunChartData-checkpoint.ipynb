{
 "cells": [
  {
   "cell_type": "markdown",
   "metadata": {},
   "source": [
    "# returnChartData\n",
    "Returns candlestick chart data. \n",
    "Required GET parameters are :\n",
    "* \"currencyPair\", \n",
    "* \"period\" (candlestick period in seconds; valid values are 300, 900, 1800, 7200, 14400, and 86400), \n",
    "* \"start\", \n",
    "* \"end\".\n",
    "\n",
    "\"Start\" and \"end\" are given in UNIX timestamp format and used to specify the date range for the data returned. \n",
    "\n",
    "Call: https://poloniex.com/public?command=returnChartData&currencyPair=BTC_XMR&start=1405699200&end=9999999999&period=14400\n",
    "\n",
    "Sample output:"
   ]
  },
  {
   "cell_type": "markdown",
   "metadata": {},
   "source": [
    ">`[{\"date\":1405699200,\"high\":0.0045388,\"low\":0.00403001,\"open\":0.00404545,\"close\":0.00427592,\"volume\":44.11655644,\n",
    "\"quoteVolume\":10259.29079097,\"weightedAverage\":0.00430015}, ...]`"
   ]
  },
  {
   "cell_type": "markdown",
   "metadata": {},
   "source": [
    "# Le probleme du temps\n",
    "\n",
    "Gros problème rencontré pour l'interprétation du temps :\n",
    "* les données fournies par le broker sont de type UNIX\n",
    "* la fonction candlestick_ohlc prends des data en format \"float\"\n",
    "\n",
    "Je n'ai pas réussis a faire la conversion directe Unix vers Float,\n",
    "\n",
    "Alors, je transforme les dates unix en dates de type datetime.datetime avec la commande\n",
    ">datetime.datetime.fromtimstamp()\n",
    "\n",
    "Ce qui me permet d'obtenir une classe datetime.\n",
    "   Ensuite, sur cet objet datetime, je peux appeler la méthode \"date2num()\" qui prend en parametre un datetime et qui renvoit sa valeur en format float.\n"
   ]
  },
  {
   "cell_type": "markdown",
   "metadata": {},
   "source": [
    "### Note sur JSON\n",
    "La sortie de data.read() est un fichier de type byte qui est pas terriblement formate.\n",
    "On utilise JSON et la fonction loads :\n",
    "    \n",
    "https://docs.python.org/3/library/json.html\n",
    ">JSON (JavaScript Object Notation), specified by RFC 7159 and by ECMA-404, is a lightweight data interchange format inspired by JavaScript object literal syntax.\n",
    "    \n",
    "    >`json.loads(s, *, encoding=None, cls=None, object_hook=None, parse_float=None, parse_int=None, parse_constant=None, object_pairs_hook=None, **kw)`\n",
    "\n",
    ">Deserialize s (a str, bytes or bytearray instance containing a JSON document) to a Python object using this conversion table.\n",
    "    \n",
    "\n",
    "Cela permet de recuperer les données sous forme d'une liste de dictionnaires"
   ]
  },
  {
   "cell_type": "code",
   "execution_count": 73,
   "metadata": {
    "collapsed": true,
    "scrolled": true
   },
   "outputs": [],
   "source": [
    "import urllib\n",
    "import json\n",
    "import time\n",
    "import datetime\n",
    "from datetime import date\n",
    "from matplotlib.finance import date2num\n",
    "import matplotlib.ticker as mticker\n",
    "from matplotlib.finance import candlestick_ohlc\n",
    "import matplotlib.dates as mdates\n",
    "import matplotlib.pyplot as plt"
   ]
  },
  {
   "cell_type": "code",
   "execution_count": 2,
   "metadata": {
    "collapsed": true
   },
   "outputs": [],
   "source": [
    "def return_chart(currencyPair, start, end, *period):\n",
    "    \n",
    "    # if no period is given, the default period will be 14400 seconds \n",
    "    if not period:\n",
    "        period = str(14400)\n",
    "    else:\n",
    "        period = str(period[0])\n",
    "    \n",
    "    end = str(time.mktime(end.timetuple()))\n",
    "    start = str(time.mktime(start.timetuple()))\n",
    "    urlQuotes = urllib.request.urlopen('https://poloniex.com/public?command=returnChartData&currencyPair=' + currencyPair\n",
    "                                           + '&start=' + start\n",
    "                                           + '&end=' + end\n",
    "                                           + '&period=' + period)\n",
    "                                     \n",
    "    rawQuotes = urlQuotes.read()\n",
    "    ## permet de lire correctement les data au format JSON\n",
    "    data = json.loads(rawQuotes)\n",
    "    \n",
    "    return data\n",
    "    "
   ]
  },
  {
   "cell_type": "code",
   "execution_count": null,
   "metadata": {
    "collapsed": true
   },
   "outputs": [],
   "source": [
    "def candlestick(data):\n",
    "    date_time=[]\n",
    "    close=[]\n",
    "    high=[]\n",
    "    low=[]\n",
    "    open=[]\n",
    "    \n",
    "    for i in data:\n",
    "        close.append(i.get(\"close\"))\n",
    "        date_time.append(i.get(\"date\"))\n",
    "        high.append(i.get(\"high\"))\n",
    "        low.append(i.get(\"low\"))\n",
    "        open.append(i.get(\"open\"))\n",
    "        \n",
    "        \n",
    "    #regler le probleme des differents formats de temps\n",
    "    k=0\n",
    "    for k in range(len(date_time)):\n",
    "        date_time[k]=date2num(datetime.datetime.fromtimestamp(date_time[k]))\n",
    "        k+=1\n",
    "\n",
    "    quotes = [tuple([date_time[i],\n",
    "                     open[i],\n",
    "                     high[i],\n",
    "                     low[i],\n",
    "                     close[i]]) for i in range(len(date_time))] \n",
    "\n",
    "### Ploter le candlestick chart\n",
    "    fig=plt.figure(figsize=(18, 16), dpi= 80, facecolor='w', edgecolor='k')\n",
    "    f1 = plt.subplot2grid((6, 4), (1, 0), rowspan=6, colspan=4)\n",
    "    \n",
    "    candlestick_ohlc(f1, quotes, width=0.1, colorup='#53c156', colordown='#ff1717')\n",
    "\n",
    "    f1.xaxis.set_major_formatter(mdates.DateFormatter('%Y-%m-%d %H:%M'))\n",
    "    f1.grid(True)\n",
    "    plt.xticks(rotation=45)\n",
    "    plt.title('Pair currency')\n",
    "    plt.ylabel('Price')\n",
    "    plt.xlabel('Date')\n",
    "    plt.show()\n"
   ]
  },
  {
   "cell_type": "code",
   "execution_count": 54,
   "metadata": {
    "collapsed": true
   },
   "outputs": [],
   "source": [
    "end = date(2017, 9, 20)\n",
    "start = date(2017, 6, 1)\n",
    "\n",
    "#candlestick(return_chart('BTC_ETH', start, end))"
   ]
  },
  {
   "cell_type": "code",
   "execution_count": 55,
   "metadata": {
    "collapsed": true
   },
   "outputs": [],
   "source": [
    "test = return_chart(\"BTC_ETH\", start, end)"
   ]
  },
  {
   "cell_type": "code",
   "execution_count": 163,
   "metadata": {
    "collapsed": true
   },
   "outputs": [],
   "source": [
    "import pandas as pd\n",
    "import numpy as np"
   ]
  },
  {
   "cell_type": "code",
   "execution_count": 180,
   "metadata": {},
   "outputs": [],
   "source": [
    "df2 = pd.DataFrame(data)\n",
    "date_pd = pd.to_datetime(df2['date'], unit='s')\n",
    "df2 = df2.set_index(date_pd)\n",
    "\n",
    "close = df2['close']\n",
    "\n",
    "df2['mvg_40']= close.rolling(window=40, min_periods=1).mean()\n",
    "df2['mvg_250']= close.rolling(window=250, min_periods=1).mean()\n",
    "\n",
    "\n",
    "\n"
   ]
  },
  {
   "cell_type": "code",
   "execution_count": 291,
   "metadata": {},
   "outputs": [
    {
     "data": {
      "image/png": "[encoded data removed]",
      "text/plain": [
       "<matplotlib.figure.Figure at 0x1f446447be0>"
      ]
     },
     "metadata": {},
     "output_type": "display_data"
    }
   ],
   "source": [
    "## Strategie\n",
    "\n",
    "shortWindow = 40\n",
    "longWindow = 200\n",
    "\n",
    "signals = pd.DataFrame(index=df2.index)\n",
    "signals['signal'] = 0.0\n",
    "\n",
    "signals['short_mvg']=df2['close'].rolling(window=shortWindow, min_periods=1).mean()\n",
    "signals['long_mvg']=df2['close'].rolling(window=longWindow, min_periods=1).mean()\n",
    "\n",
    "signals['signal'][longWindow:] = np.where(signals['short_mvg'][longWindow:] >\n",
    "                                          signals['long_mvg'][longWindow:], 1.0, 0.0)\n",
    "\n",
    "signals['position'] = signals['signal'].diff()\n",
    "\n",
    "signals['position'].plot()\n",
    "plt.show()\n"
   ]
  },
  {
   "cell_type": "markdown",
   "metadata": {},
   "source": [
    "## Note sur le plot de marqueurs \n",
    "\n",
    "J'ai essayé de ploter des triangles au moment du signal d'achat ou de vente, d'apres le code de :  \n",
    "https://www.datacamp.com/community/tutorials/finance-python-trading#gs.bk8sBqM\n",
    ">`#Plot the buy signals`  \n",
    ">`ax1.plot(signals.loc[signals.positions == 1.0].index, \n",
    "         signals.short_mavg[signals.positions == 1.0],\n",
    "         '^', markersize=10, color='m')`\n",
    "         \n",
    "         >`#Plot the sell signals`   \n",
    ">`ax1.plot(signals.loc[signals.positions == -1.0].index, \n",
    "         signals.short_mavg[signals.positions == -1.0],\n",
    "         'v', markersize=10, color='k')`\n",
    "         \n",
    "Le problème est qu'avec ces commandes, les triangles ne se plottent pas sur la figure (beug?). Si je ne plote que les triangles, ca fonctionne, mais dès que je plot d'autres data (moving average, quote...), ils disparaissent.  \n",
    "J'ai donc utilisé une autre solution qui est de créer une nouvelle colonne dans le DataFrame de panda, où les valeurs sont celles de la moving average au moment de prise de position :  \n",
    "* x = date au moment de la prise de position (`signals.short_mvg[signals.position == 1.0]`)  \n",
    "* y = valeur de la short moyenne mobile court terme  "
   ]
  },
  {
   "cell_type": "code",
   "execution_count": 253,
   "metadata": {},
   "outputs": [
    {
     "data": {
      "image/png": "[encoded data removed]",
      "text/plain": [
       "<matplotlib.figure.Figure at 0x1f4438c7d68>"
      ]
     },
     "metadata": {},
     "output_type": "display_data"
    }
   ],
   "source": [
    "fig = plt.figure()\n",
    "\n",
    "# Add a subplot and label for y-axis\n",
    "ax1 = fig.add_subplot(111,  ylabel='Price')\n",
    "\n",
    "# Plot the closing price\n",
    "df2['close'].plot(color='b', lw=0.5)\n",
    "\n",
    "# Plot the short and long moving averages\n",
    "signals[['short_mvg', 'long_mvg']].plot(ax=ax1, lw=2.)\n",
    "\n",
    "# Plot the buy signals\n",
    "df2['buy_signal'] = signals.short_mvg[signals.position == 1.0]\n",
    "df2.buy_signal[df2.buy_signal > 0].plot(marker='^', markersize=5, color='m', linestyle=\"None\")\n",
    "         \n",
    "# Plot the sell signals\n",
    "df2['sell_signal'] = signals.short_mvg[signals.position == -1.0]\n",
    "df2.sell_signal[df2.sell_signal > 0].plot(marker='v', markersize=5, color='k', linestyle=\"None\")\n",
    "df2.sell_signal[df2.sell_signal.isnull() == False]\n",
    "         \n",
    "# Show the plot\n",
    "plt.show()\n",
    "#signals.short_mvg[signals.position == -1.0].values"
   ]
  },
  {
   "cell_type": "markdown",
   "metadata": {},
   "source": [
    "## Note sur le boolean indexing avec Panda\n",
    "\n",
    ">Boolean indexing\n",
    ">Another common operation is the use of boolean vectors to filter the data.   \n",
    "The operators are: | for or, & for and, and ~ for not. **These must be grouped by using parentheses.**  \n",
    ">ex : `s[(s < -1) | (s > 0.5)]`"
   ]
  },
  {
   "cell_type": "code",
   "execution_count": 292,
   "metadata": {},
   "outputs": [
    {
     "data": {
      "text/html": [
       "<div>\n",
       "<style>\n",
       "    .dataframe thead tr:only-child th {\n",
       "        text-align: right;\n",
       "    }\n",
       "\n",
       "    .dataframe thead th {\n",
       "        text-align: left;\n",
       "    }\n",
       "\n",
       "    .dataframe tbody tr th {\n",
       "        vertical-align: top;\n",
       "    }\n",
       "</style>\n",
       "<table border=\"1\" class=\"dataframe\">\n",
       "  <thead>\n",
       "    <tr style=\"text-align: right;\">\n",
       "      <th></th>\n",
       "      <th>close</th>\n",
       "      <th>date</th>\n",
       "      <th>high</th>\n",
       "      <th>low</th>\n",
       "      <th>open</th>\n",
       "      <th>quoteVolume</th>\n",
       "      <th>volume</th>\n",
       "      <th>weightedAverage</th>\n",
       "      <th>mvg_40</th>\n",
       "      <th>mvg_250</th>\n",
       "      <th>buy_signal</th>\n",
       "      <th>sell_signal</th>\n",
       "    </tr>\n",
       "    <tr>\n",
       "      <th>date</th>\n",
       "      <th></th>\n",
       "      <th></th>\n",
       "      <th></th>\n",
       "      <th></th>\n",
       "      <th></th>\n",
       "      <th></th>\n",
       "      <th></th>\n",
       "      <th></th>\n",
       "      <th></th>\n",
       "      <th></th>\n",
       "      <th></th>\n",
       "      <th></th>\n",
       "    </tr>\n",
       "  </thead>\n",
       "  <tbody>\n",
       "    <tr>\n",
       "      <th>2017-08-11 00:00:00</th>\n",
       "      <td>0.088112</td>\n",
       "      <td>1502409600</td>\n",
       "      <td>0.088425</td>\n",
       "      <td>0.086670</td>\n",
       "      <td>0.086998</td>\n",
       "      <td>17190.526158</td>\n",
       "      <td>1502.644612</td>\n",
       "      <td>0.087411</td>\n",
       "      <td>0.082703</td>\n",
       "      <td>0.087179</td>\n",
       "      <td>0.082703</td>\n",
       "      <td>NaN</td>\n",
       "    </tr>\n",
       "    <tr>\n",
       "      <th>2017-08-15 08:00:00</th>\n",
       "      <td>0.069706</td>\n",
       "      <td>1502784000</td>\n",
       "      <td>0.071401</td>\n",
       "      <td>0.067713</td>\n",
       "      <td>0.068200</td>\n",
       "      <td>71651.554093</td>\n",
       "      <td>5010.680385</td>\n",
       "      <td>0.069931</td>\n",
       "      <td>0.080815</td>\n",
       "      <td>0.083710</td>\n",
       "      <td>NaN</td>\n",
       "      <td>0.080815</td>\n",
       "    </tr>\n",
       "    <tr>\n",
       "      <th>2017-08-27 04:00:00</th>\n",
       "      <td>0.077133</td>\n",
       "      <td>1503806400</td>\n",
       "      <td>0.077675</td>\n",
       "      <td>0.076694</td>\n",
       "      <td>0.076886</td>\n",
       "      <td>8458.263482</td>\n",
       "      <td>652.228312</td>\n",
       "      <td>0.077111</td>\n",
       "      <td>0.077103</td>\n",
       "      <td>0.078589</td>\n",
       "      <td>0.077103</td>\n",
       "      <td>NaN</td>\n",
       "    </tr>\n",
       "    <tr>\n",
       "      <th>2017-09-05 16:00:00</th>\n",
       "      <td>0.071950</td>\n",
       "      <td>1504627200</td>\n",
       "      <td>0.072061</td>\n",
       "      <td>0.070355</td>\n",
       "      <td>0.070726</td>\n",
       "      <td>22468.558142</td>\n",
       "      <td>1601.947233</td>\n",
       "      <td>0.071297</td>\n",
       "      <td>0.077447</td>\n",
       "      <td>0.077145</td>\n",
       "      <td>NaN</td>\n",
       "      <td>0.077447</td>\n",
       "    </tr>\n",
       "  </tbody>\n",
       "</table>\n",
       "</div>"
      ],
      "text/plain": [
       "                        close        date      high       low      open  \\\n",
       "date                                                                      \n",
       "2017-08-11 00:00:00  0.088112  1502409600  0.088425  0.086670  0.086998   \n",
       "2017-08-15 08:00:00  0.069706  1502784000  0.071401  0.067713  0.068200   \n",
       "2017-08-27 04:00:00  0.077133  1503806400  0.077675  0.076694  0.076886   \n",
       "2017-09-05 16:00:00  0.071950  1504627200  0.072061  0.070355  0.070726   \n",
       "\n",
       "                      quoteVolume       volume  weightedAverage    mvg_40  \\\n",
       "date                                                                        \n",
       "2017-08-11 00:00:00  17190.526158  1502.644612         0.087411  0.082703   \n",
       "2017-08-15 08:00:00  71651.554093  5010.680385         0.069931  0.080815   \n",
       "2017-08-27 04:00:00   8458.263482   652.228312         0.077111  0.077103   \n",
       "2017-09-05 16:00:00  22468.558142  1601.947233         0.071297  0.077447   \n",
       "\n",
       "                      mvg_250  buy_signal  sell_signal  \n",
       "date                                                    \n",
       "2017-08-11 00:00:00  0.087179    0.082703          NaN  \n",
       "2017-08-15 08:00:00  0.083710         NaN     0.080815  \n",
       "2017-08-27 04:00:00  0.078589    0.077103          NaN  \n",
       "2017-09-05 16:00:00  0.077145         NaN     0.077447  "
      ]
     },
     "execution_count": 292,
     "metadata": {},
     "output_type": "execute_result"
    }
   ],
   "source": [
    "\n",
    "\n",
    "\n",
    "#df2.loc[(df2.sell_signal.isnull() == False) | (df2.buy_signal.isnull() == False)].iloc[0]\n",
    "\n",
    "df2.loc[(df2.sell_signal.isnull() == False) | (df2.buy_signal.isnull() == False)]\n"
   ]
  },
  {
   "cell_type": "code",
   "execution_count": null,
   "metadata": {
    "collapsed": true
   },
   "outputs": [],
   "source": []
  },
  {
   "cell_type": "code",
   "execution_count": 290,
   "metadata": {
    "collapsed": true
   },
   "outputs": [],
   "source": [
    "initial_capital = 10000.0\n",
    "positions = pd.DataFrame(index=signals.index).fillna(0.0)\n",
    "position['ETH'] = 100 * signals['signal']"
   ]
  },
  {
   "cell_type": "code",
   "execution_count": null,
   "metadata": {
    "collapsed": true
   },
   "outputs": [],
   "source": []
  }
 ],
 "metadata": {
  "kernelspec": {
   "display_name": "Python 3",
   "language": "python",
   "name": "python3"
  },
  "language_info": {
   "codemirror_mode": {
    "name": "ipython",
    "version": 3
   },
   "file_extension": ".py",
   "mimetype": "text/x-python",
   "name": "python",
   "nbconvert_exporter": "python",
   "pygments_lexer": "ipython3",
   "version": "3.6.1"
  }
 },
 "nbformat": 4,
 "nbformat_minor": 2
}
