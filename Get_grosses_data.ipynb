{
 "cells": [
  {
   "cell_type": "code",
   "execution_count": 4,
   "metadata": {},
   "outputs": [
    {
     "data": {
      "text/html": [
       "\n",
       "<style type='text/css'>\n",
       ".hll { background-color: #ffffcc }\n",
       ".c { color: #408080; font-style: italic } /* Comment */\n",
       ".err { border: 1px solid #FF0000 } /* Error */\n",
       ".k { color: #008000; font-weight: bold } /* Keyword */\n",
       ".o { color: #666666 } /* Operator */\n",
       ".ch { color: #408080; font-style: italic } /* Comment.Hashbang */\n",
       ".cm { color: #408080; font-style: italic } /* Comment.Multiline */\n",
       ".cp { color: #BC7A00 } /* Comment.Preproc */\n",
       ".cpf { color: #408080; font-style: italic } /* Comment.PreprocFile */\n",
       ".c1 { color: #408080; font-style: italic } /* Comment.Single */\n",
       ".cs { color: #408080; font-style: italic } /* Comment.Special */\n",
       ".gd { color: #A00000 } /* Generic.Deleted */\n",
       ".ge { font-style: italic } /* Generic.Emph */\n",
       ".gr { color: #FF0000 } /* Generic.Error */\n",
       ".gh { color: #000080; font-weight: bold } /* Generic.Heading */\n",
       ".gi { color: #00A000 } /* Generic.Inserted */\n",
       ".go { color: #888888 } /* Generic.Output */\n",
       ".gp { color: #000080; font-weight: bold } /* Generic.Prompt */\n",
       ".gs { font-weight: bold } /* Generic.Strong */\n",
       ".gu { color: #800080; font-weight: bold } /* Generic.Subheading */\n",
       ".gt { color: #0044DD } /* Generic.Traceback */\n",
       ".kc { color: #008000; font-weight: bold } /* Keyword.Constant */\n",
       ".kd { color: #008000; font-weight: bold } /* Keyword.Declaration */\n",
       ".kn { color: #008000; font-weight: bold } /* Keyword.Namespace */\n",
       ".kp { color: #008000 } /* Keyword.Pseudo */\n",
       ".kr { color: #008000; font-weight: bold } /* Keyword.Reserved */\n",
       ".kt { color: #B00040 } /* Keyword.Type */\n",
       ".m { color: #666666 } /* Literal.Number */\n",
       ".s { color: #BA2121 } /* Literal.String */\n",
       ".na { color: #7D9029 } /* Name.Attribute */\n",
       ".nb { color: #008000 } /* Name.Builtin */\n",
       ".nc { color: #0000FF; font-weight: bold } /* Name.Class */\n",
       ".no { color: #880000 } /* Name.Constant */\n",
       ".nd { color: #AA22FF } /* Name.Decorator */\n",
       ".ni { color: #999999; font-weight: bold } /* Name.Entity */\n",
       ".ne { color: #D2413A; font-weight: bold } /* Name.Exception */\n",
       ".nf { color: #0000FF } /* Name.Function */\n",
       ".nl { color: #A0A000 } /* Name.Label */\n",
       ".nn { color: #0000FF; font-weight: bold } /* Name.Namespace */\n",
       ".nt { color: #008000; font-weight: bold } /* Name.Tag */\n",
       ".nv { color: #19177C } /* Name.Variable */\n",
       ".ow { color: #AA22FF; font-weight: bold } /* Operator.Word */\n",
       ".w { color: #bbbbbb } /* Text.Whitespace */\n",
       ".mb { color: #666666 } /* Literal.Number.Bin */\n",
       ".mf { color: #666666 } /* Literal.Number.Float */\n",
       ".mh { color: #666666 } /* Literal.Number.Hex */\n",
       ".mi { color: #666666 } /* Literal.Number.Integer */\n",
       ".mo { color: #666666 } /* Literal.Number.Oct */\n",
       ".sa { color: #BA2121 } /* Literal.String.Affix */\n",
       ".sb { color: #BA2121 } /* Literal.String.Backtick */\n",
       ".sc { color: #BA2121 } /* Literal.String.Char */\n",
       ".dl { color: #BA2121 } /* Literal.String.Delimiter */\n",
       ".sd { color: #BA2121; font-style: italic } /* Literal.String.Doc */\n",
       ".s2 { color: #BA2121 } /* Literal.String.Double */\n",
       ".se { color: #BB6622; font-weight: bold } /* Literal.String.Escape */\n",
       ".sh { color: #BA2121 } /* Literal.String.Heredoc */\n",
       ".si { color: #BB6688; font-weight: bold } /* Literal.String.Interpol */\n",
       ".sx { color: #008000 } /* Literal.String.Other */\n",
       ".sr { color: #BB6688 } /* Literal.String.Regex */\n",
       ".s1 { color: #BA2121 } /* Literal.String.Single */\n",
       ".ss { color: #19177C } /* Literal.String.Symbol */\n",
       ".bp { color: #008000 } /* Name.Builtin.Pseudo */\n",
       ".fm { color: #0000FF } /* Name.Function.Magic */\n",
       ".vc { color: #19177C } /* Name.Variable.Class */\n",
       ".vg { color: #19177C } /* Name.Variable.Global */\n",
       ".vi { color: #19177C } /* Name.Variable.Instance */\n",
       ".vm { color: #19177C } /* Name.Variable.Magic */\n",
       ".il { color: #666666 } /* Literal.Number.Integer.Long */\n",
       "</style>\n"
      ],
      "text/plain": [
       "<IPython.core.display.HTML object>"
      ]
     },
     "metadata": {},
     "output_type": "display_data"
    }
   ],
   "source": [
    "\"\"\"\n",
    "Module directly collated from\n",
    "http://nbviewer.ipython.org/github/adrn/ipython/blob/1.x/examples/notebooks/Importing%20Notebooks.ipynb\n",
    "\"\"\"\n",
    "import io, os, sys, types\n",
    "from IPython.nbformat import current\n",
    "from IPython.core.interactiveshell import InteractiveShell\n",
    "\n",
    "def find_notebook(fullname, path=None):\n",
    "    \"\"\"find a notebook, given its fully qualified name and an optional path\n",
    "\n",
    "    This turns \"foo.bar\" into \"foo/bar.ipynb\"\n",
    "    and tries turning \"Foo_Bar\" into \"Foo Bar\" if Foo_Bar\n",
    "    does not exist.\n",
    "    \"\"\"\n",
    "    name = fullname.rsplit('.', 1)[-1]\n",
    "    if not path:\n",
    "        path = ['']\n",
    "    for d in path:\n",
    "        nb_path = os.path.join(d, name + \".ipynb\")\n",
    "        if os.path.isfile(nb_path):\n",
    "            return nb_path\n",
    "        # let import Notebook_Name find \"Notebook Name.ipynb\"\n",
    "        nb_path = nb_path.replace(\"_\", \" \")\n",
    "        if os.path.isfile(nb_path):\n",
    "            return nb_path\n",
    "\n",
    "class NotebookLoader(object):\n",
    "    \"\"\"Module Loader for IPython Notebooks\"\"\"\n",
    "    def __init__(self, path=None):\n",
    "        self.shell = InteractiveShell.instance()\n",
    "        self.path = path\n",
    "\n",
    "    def load_module(self, fullname):\n",
    "        \"\"\"import a notebook as a module\"\"\"\n",
    "        path = find_notebook(fullname, self.path)\n",
    "\n",
    "        print (\"importing IPython notebook from %s\" % path)\n",
    "\n",
    "        # load the notebook object\n",
    "        with io.open(path, 'r', encoding='utf-8') as f:\n",
    "            nb = current.read(f, 'json')\n",
    "\n",
    "        # create the module and add it to sys.modules\n",
    "        # if name in sys.modules:\n",
    "        #    return sys.modules[name]\n",
    "        mod = types.ModuleType(fullname)\n",
    "        mod.__file__ = path\n",
    "        mod.__loader__ = self\n",
    "        sys.modules[fullname] = mod\n",
    "\n",
    "        # extra work to ensure that magics that would affect the user_ns\n",
    "        # actually affect the notebook module's ns\n",
    "        save_user_ns = self.shell.user_ns\n",
    "        self.shell.user_ns = mod.__dict__\n",
    "\n",
    "        try:\n",
    "            for cell in nb.worksheets[0].cells:\n",
    "                if cell.cell_type == 'code' and cell.language == 'python':\n",
    "                    # transform the input to executable Python\n",
    "                    code = self.shell.input_transformer_manager.transform_cell(cell.input)\n",
    "                    # run the code in themodule\n",
    "                    #exec(code in mod.__dict__)\n",
    "        finally:\n",
    "            self.shell.user_ns = save_user_ns\n",
    "        return mod\n",
    "\n",
    "class NotebookFinder(object):\n",
    "    \"\"\"Module finder that locates IPython Notebooks\"\"\"\n",
    "    def __init__(self):\n",
    "        self.loaders = {}\n",
    "\n",
    "    def find_module(self, fullname, path=None):\n",
    "        nb_path = find_notebook(fullname, path)\n",
    "        if not nb_path:\n",
    "            return\n",
    "\n",
    "        key = path\n",
    "        if path:\n",
    "            # lists aren't hashable\n",
    "            key = os.path.sep.join(path)\n",
    "\n",
    "        if key not in self.loaders:\n",
    "            self.loaders[key] = NotebookLoader(path)\n",
    "        return self.loaders[key]\n",
    "\n",
    "# --------------\n",
    "\n",
    "from pygments import highlight\n",
    "from pygments.lexers import PythonLexer\n",
    "from pygments.formatters import HtmlFormatter\n",
    "\n",
    "from IPython.display import display, HTML\n",
    "\n",
    "formatter = HtmlFormatter()\n",
    "lexer = PythonLexer()\n",
    "\n",
    "# publish the CSS for pygments highlighting\n",
    "display(HTML(\"\"\"\n",
    "<style type='text/css'>\n",
    "%s\n",
    "</style>\n",
    "\"\"\" % formatter.get_style_defs()\n",
    "))\n",
    "\n",
    "def show_notebook(fname):\n",
    "    \"\"\"display a short summary of the cells of a notebook\"\"\"\n",
    "    with io.open(fname, 'r', encoding='utf-8') as f:\n",
    "        nb = current.read(f, 'json')\n",
    "    html = []\n",
    "    for cell in nb.worksheets[0].cells:\n",
    "        html.append(\"<h4>%s cell</h4>\" % cell.cell_type)\n",
    "        if cell.cell_type == 'code':\n",
    "            html.append(highlight(cell.input, lexer, formatter))\n",
    "        else:\n",
    "            html.append(\"<pre>%s</pre>\" % cell.source)\n",
    "    display(HTML('\\n'.join(html)))\n",
    "\n",
    "# Example\n",
    "#show_notebook(os.path.join(\"nbimp\", \"mynotebook.ipynb\"))\n",
    "\n",
    "sys.meta_path.append(NotebookFinder())"
   ]
  },
  {
   "cell_type": "code",
   "execution_count": 10,
   "metadata": {},
   "outputs": [],
   "source": [
    "import retunChartData as rCD"
   ]
  },
  {
   "cell_type": "code",
   "execution_count": 11,
   "metadata": {},
   "outputs": [
    {
     "ename": "AttributeError",
     "evalue": "module 'retunChartData' has no attribute 'return_chart'",
     "output_type": "error",
     "traceback": [
      "\u001b[1;31m---------------------------------------------------------------------------\u001b[0m",
      "\u001b[1;31mAttributeError\u001b[0m                            Traceback (most recent call last)",
      "\u001b[1;32m<ipython-input-11-949b4288c865>\u001b[0m in \u001b[0;36m<module>\u001b[1;34m()\u001b[0m\n\u001b[0;32m      3\u001b[0m \u001b[0mend\u001b[0m \u001b[1;33m=\u001b[0m \u001b[0mdate\u001b[0m\u001b[1;33m(\u001b[0m\u001b[1;36m2017\u001b[0m\u001b[1;33m,\u001b[0m \u001b[1;36m9\u001b[0m\u001b[1;33m,\u001b[0m \u001b[1;36m20\u001b[0m\u001b[1;33m)\u001b[0m\u001b[1;33m\u001b[0m\u001b[0m\n\u001b[0;32m      4\u001b[0m \u001b[0mstart\u001b[0m \u001b[1;33m=\u001b[0m \u001b[0mdate\u001b[0m\u001b[1;33m(\u001b[0m\u001b[1;36m2017\u001b[0m\u001b[1;33m,\u001b[0m \u001b[1;36m6\u001b[0m\u001b[1;33m,\u001b[0m \u001b[1;36m1\u001b[0m\u001b[1;33m)\u001b[0m\u001b[1;33m\u001b[0m\u001b[0m\n\u001b[1;32m----> 5\u001b[1;33m \u001b[0mtest\u001b[0m \u001b[1;33m=\u001b[0m \u001b[0mrCD\u001b[0m\u001b[1;33m.\u001b[0m\u001b[0mreturn_chart\u001b[0m\u001b[1;33m(\u001b[0m\u001b[1;34m\"BTC_ETH\"\u001b[0m\u001b[1;33m,\u001b[0m \u001b[0mstart\u001b[0m\u001b[1;33m,\u001b[0m \u001b[0mend\u001b[0m\u001b[1;33m)\u001b[0m\u001b[1;33m\u001b[0m\u001b[0m\n\u001b[0m",
      "\u001b[1;31mAttributeError\u001b[0m: module 'retunChartData' has no attribute 'return_chart'"
     ]
    }
   ],
   "source": [
    "from datetime import date\n",
    "\n",
    "end = date(2017, 9, 20)\n",
    "start = date(2017, 6, 1)\n",
    "test = rCD.return_chart(\"BTC_ETH\", start, end)"
   ]
  },
  {
   "cell_type": "code",
   "execution_count": null,
   "metadata": {
    "scrolled": false
   },
   "outputs": [],
   "source": [
    "import testTicker"
   ]
  },
  {
   "cell_type": "code",
   "execution_count": null,
   "metadata": {},
   "outputs": [],
   "source": [
    "import pandas as pd\n",
    "test = testTicker.getTicker()\n"
   ]
  },
  {
   "cell_type": "code",
   "execution_count": null,
   "metadata": {},
   "outputs": [],
   "source": [
    "quotes = test['quote']\n",
    "quotes\n",
    "df = pd.DataFrame(quotes)\n",
    "df\n",
    "\n",
    "\n",
    "#timeStamp = pd.Series(test['currentTime'])"
   ]
  },
  {
   "cell_type": "raw",
   "metadata": {},
   "source": [
    "df.append(test['currentTime'])"
   ]
  },
  {
   "cell_type": "code",
   "execution_count": null,
   "metadata": {},
   "outputs": [],
   "source": [
    "test['currentTime']"
   ]
  },
  {
   "cell_type": "code",
   "execution_count": null,
   "metadata": {
    "collapsed": true
   },
   "outputs": [],
   "source": []
  }
 ],
 "metadata": {
  "kernelspec": {
   "display_name": "Python 3",
   "language": "python",
   "name": "python3"
  },
  "language_info": {
   "codemirror_mode": {
    "name": "ipython",
    "version": 3
   },
   "file_extension": ".py",
   "mimetype": "text/x-python",
   "name": "python",
   "nbconvert_exporter": "python",
   "pygments_lexer": "ipython3",
   "version": "3.6.1"
  }
 },
 "nbformat": 4,
 "nbformat_minor": 2
}
